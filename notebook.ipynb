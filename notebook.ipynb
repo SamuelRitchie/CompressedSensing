{
 "cells": [
  {
   "cell_type": "markdown",
   "metadata": {},
   "source": [
    "#### <p style=\"text-align:right\";> *Projet de Compressed Sensing - ENSAE ParisTech - 2017/2018*</p>  <p style=\"text-align:right\";> Kolia Iakovlev - Samuel Ritchie </p>\n",
    "\n",
    "# <p style=\"text-align:center\";><span style=\"color: #fb4141\">Application du Compressed Sensing au cas des images satellites : </span></p> <p style=\"text-align:center\";><span style=\"color: #fb4141\"> un exemple d'implémentation</span></p>"
   ]
  },
  {
   "cell_type": "code",
   "execution_count": null,
   "metadata": {},
   "outputs": [],
   "source": [
    "from jyquickhelper import add_notebook_menu\n",
    "add_notebook_menu()"
   ]
  },
  {
   "cell_type": "markdown",
   "metadata": {},
   "source": [
    "## 0. Importation des modules utiles au projet"
   ]
  },
  {
   "cell_type": "markdown",
   "metadata": {},
   "source": [
    "Nous commencons par importer les différents modules utiles au projet. Outre numpy pour le calcul numérique, nous utilisons la librairie Pillow pour le chargement des images, ainsi que la librairie cvxpy pour l'optimisation."
   ]
  },
  {
   "cell_type": "code",
   "execution_count": null,
   "metadata": {},
   "outputs": [],
   "source": [
    "import numpy as np\n",
    "from PIL import Image\n",
    "from cvxpy import *\n",
    "from tqdm import tqdm \n",
    "tqdm.monitor_interval = 1\n",
    "import matplotlib.pyplot as plt\n",
    "%matplotlib inline\n",
    "import time\n",
    "import os\n",
    "from copy import deepcopy\n",
    "from scipy.fftpack import fft, dct, idct"
   ]
  },
  {
   "cell_type": "markdown",
   "metadata": {},
   "source": [
    "## 1. Chargement et prétraitement de l'image satellite"
   ]
  },
  {
   "cell_type": "code",
   "execution_count": null,
   "metadata": {
    "scrolled": false
   },
   "outputs": [],
   "source": [
    "image = Image.open(\"image_satellite.jpg\")\n",
    "image = np.array(image)\n",
    "image = image[:,:,0]\n",
    "plt.imshow(image,  cmap=plt.cm.gray)"
   ]
  },
  {
   "cell_type": "markdown",
   "metadata": {},
   "source": [
    "On rogne l'image en un carré de 300*300 pixels"
   ]
  },
  {
   "cell_type": "code",
   "execution_count": null,
   "metadata": {},
   "outputs": [],
   "source": [
    "image = image[100:200,100:200]\n",
    "plt.imshow(image,  cmap=plt.cm.gray)"
   ]
  },
  {
   "cell_type": "code",
   "execution_count": null,
   "metadata": {},
   "outputs": [],
   "source": [
    "full_coef = []\n",
    "for value in image:\n",
    "    full_coef.append(value)\n",
    "full_coef = np.hstack(full_coef)\n",
    "plt.figure(figsize=(15,5))\n",
    "plt.hist(np.abs(full_coef), range=[np.min(np.abs(full_coef)), np.max(np.abs(full_coef))], bins=100)\n",
    "plt.title('Values of the coefficients in the origin space')\n",
    "plt.show()  "
   ]
  },
  {
   "cell_type": "markdown",
   "metadata": {},
   "source": [
    "Passage dans la base des cosinus"
   ]
  },
  {
   "cell_type": "code",
   "execution_count": null,
   "metadata": {},
   "outputs": [],
   "source": [
    "image_in_dct = dct(image)\n",
    "plt.imshow(np.asarray(idct(image_in_dct)), cmap=plt.cm.gray)"
   ]
  },
  {
   "cell_type": "code",
   "execution_count": null,
   "metadata": {},
   "outputs": [],
   "source": [
    "full_coef = []\n",
    "for value in image_in_dct:\n",
    "    full_coef.append(value)\n",
    "full_coef = np.hstack(full_coef)\n",
    "plt.figure(figsize=(15,5))\n",
    "plt.hist(np.abs(full_coef), range=[np.min(np.abs(full_coef)), np.max(np.abs(full_coef))], bins=100)\n",
    "plt.title('Values of the coefficients in the cosine space')\n",
    "plt.show()  "
   ]
  },
  {
   "cell_type": "markdown",
   "metadata": {},
   "source": [
    "## 2. Calcul des matrices de mesures"
   ]
  },
  {
   "cell_type": "markdown",
   "metadata": {},
   "source": [
    "Pour calculer les matrices de mesures, nous aurons besoin de matrices gaussiennes"
   ]
  },
  {
   "cell_type": "code",
   "execution_count": null,
   "metadata": {},
   "outputs": [],
   "source": [
    "def gaussian_matrix(M, N_col): #M : nombre de mesures N_col : nombre de colonnes\n",
    "    return np.random.randn(M, N_col)/M"
   ]
  },
  {
   "cell_type": "markdown",
   "metadata": {},
   "source": [
    "Comme suggéré dans l'article, nous allons créer une nouvelle matrice de mesure pour chaque ligne de la matrice de pixels. On stocke a la fois les *sensing matrix* \n",
    "\n",
    "$$\\Phi \\quad tq \\quad \\Phi^i \\in \\mathbb{R}^{M \\times N_{col}} \\quad et \\quad (\\Phi^i)_{kj} \\sim \\mathcal{N}(0,\\frac{1}{M}) \\quad où \\quad k=1..M \\quad et \\quad j=1..N_{col}$$\n",
    "\n",
    "Ensuite, nous prenons M mesures linéaires de $(X)_i$. Ceci formera les lignes de notre matrice de mesure $Y \\in \\mathbb{R}^{N_{row} \\times M}$ : \n",
    "\n",
    "$$ (Y)_i^T = \\Phi^i (X)_i^T $$"
   ]
  },
  {
   "cell_type": "code",
   "execution_count": null,
   "metadata": {},
   "outputs": [],
   "source": [
    "def measurement_matrixes(X,M):\n",
    "    Phi =[]\n",
    "    Y=[]\n",
    "    for i in range(0,X.shape[0]):\n",
    "        Phi.append(gaussian_matrix(M,X.shape[1]))\n",
    "        Y.append((Phi[i].dot(X[i,:].T)).T)\n",
    "    return Y,Phi"
   ]
  },
  {
   "cell_type": "markdown",
   "metadata": {},
   "source": [
    "## 3. Initialisation et définition des filtres de prédiction linéaire"
   ]
  },
  {
   "cell_type": "markdown",
   "metadata": {},
   "source": [
    "On initialise la matrice comme proposé dans l'article"
   ]
  },
  {
   "cell_type": "code",
   "execution_count": null,
   "metadata": {},
   "outputs": [],
   "source": [
    "def initialisation(Y,Phi):\n",
    "    F =[]\n",
    "    for i in tqdm(range(len(Y)), desc = 'Initialising...', ncols= 50):\n",
    "        x = Variable(Phi[i].shape[1])\n",
    "        A = Phi[i]\n",
    "        y = Y[i]\n",
    "        eps = 1\n",
    "        obj = Minimize(sum(abs(x)))\n",
    "        constraints = [norm(A*x - y) <= eps]\n",
    "        prob = Problem(obj, constraints)\n",
    "        prob.solve()\n",
    "        m = np.squeeze(np.asarray(prob.variables()[0].value))\n",
    "        F.append(m)\n",
    "    return F"
   ]
  },
  {
   "cell_type": "markdown",
   "metadata": {},
   "source": [
    "On crée par ailleurs les différents filtres de prédiction linéaire proposés par les auteurs"
   ]
  },
  {
   "cell_type": "code",
   "execution_count": null,
   "metadata": {},
   "outputs": [],
   "source": [
    "class PredictionFilters():\n",
    "    \n",
    "    def line_average_prediction_filter(self, x , y, indice):\n",
    "        return (x[indice] + y[indice])/2\n",
    "    \n",
    "    def average_prediction_filter(self, x, y, indice):\n",
    "        u=len(x)\n",
    "        if indice ==0:\n",
    "            return((x[0]+x[1]+y[0]+y[1])/4)\n",
    "        elif indice==u-1:\n",
    "            return((x[u-1]+x[u-2]+y[u-2]+y[u-1])/4)\n",
    "        else:\n",
    "            return((x[indice]+x[indice+1]+x[indice-1]+y[indice]+y[indice-1]+y[indice+1])/6)\n",
    "        \n",
    "    def weighted_average_prediction_filter(self, x, y, indice):\n",
    "        a=(2-np.sqrt(2))/4\n",
    "        b=(np.sqrt(2)-1)/2\n",
    "        u=len(x)\n",
    "        if indice ==0:\n",
    "            return((x[0]+y[0])*(3/2)/(2*np.sqrt(2)+3) + (x[1]+y[1])*np.sqrt(2)/(2*np.sqrt(2)+3))\n",
    "        elif indice==u-1:\n",
    "            return((x[u-1]+y[u-1])*(3/2)/(2*np.sqrt(2)+3) + (x[u-2]+y[u-2])*np.sqrt(2)/(2*np.sqrt(2)+3))\n",
    "        else:\n",
    "            return((x[indice+1]+x[indice-1]+y[indice-1]+y[indice+1])*a+(x[indice]+y[indice])*b)    "
   ]
  },
  {
   "cell_type": "markdown",
   "metadata": {},
   "source": [
    "## 4. Problème de minimisation $l_1$"
   ]
  },
  {
   "cell_type": "markdown",
   "metadata": {},
   "source": [
    "Ci après est défini le problème de minimisation $l_1$ classique utilisé lors de l'étape de reconstruction"
   ]
  },
  {
   "cell_type": "code",
   "execution_count": null,
   "metadata": {},
   "outputs": [],
   "source": [
    "def arg_min(image,Phi_i,e_y):\n",
    "    e = Variable(image.shape[1])\n",
    "    obj = Minimize(sum(abs(e)))\n",
    "    constraints = [Phi_i*e == e_y]\n",
    "    prob = Problem(obj,constraints)\n",
    "    prob.solve()\n",
    "    m = np.squeeze(np.asarray(prob.variables()[0].value))\n",
    "    return m"
   ]
  },
  {
   "cell_type": "markdown",
   "metadata": {},
   "source": [
    "## 5. Reconstruction de l'image"
   ]
  },
  {
   "cell_type": "code",
   "execution_count": null,
   "metadata": {},
   "outputs": [],
   "source": [
    "def reconstruction_image_2D(image,F_0,M,N_iter,prediction):\n",
    "\n",
    "    print(\"RECONSTRUCTING IMAGE WITH M = %s, %s PREDICTION FILTER AND %s ITERATIONS\" %(M,prediction,N_iter))\n",
    "    time.sleep(0.5)\n",
    "          \n",
    "    X_1 = deepcopy(F_0)\n",
    "    X_0 = deepcopy(F_0)\n",
    "    \n",
    "    length=len(X_0[0])\n",
    "    MSE=[]\n",
    "    \n",
    "    if prediction == 'P1':\n",
    "        prediction_filter = PredictionFilters().line_average_prediction_filter\n",
    "    elif prediction == 'P2':\n",
    "        prediction_filter = PredictionFilters().average_prediction_filter\n",
    "    elif prediction == 'P3' :\n",
    "        prediction_filter = PredictionFilters().weighted_average_prediction_filter\n",
    "    \n",
    "    print('Starting to iterate...')\n",
    "    for n in range(1,N_iter+1):\n",
    "        \n",
    "        time.sleep(1)\n",
    "        for i in tqdm(range(length), desc='Iteration %s/%s' %(n,N_iter)):\n",
    "            if (i==0) | (i==length-1):\n",
    "                x_p = X_0[i]\n",
    "            else:\n",
    "                x_p = [prediction_filter(X_0[i-1],X_0[i+1],j) for j in range(length)]\n",
    "            y_p = Phi[i].dot(x_p)\n",
    "            e_y = Y[i] - y_p\n",
    "            \n",
    "            e_theta = arg_min(image,Phi[i],e_y)\n",
    "            #e_x = Psi(e_theta)\n",
    "            X_1[i] = x_p + e_theta \n",
    "        MSE.append(np.square(np.subtract(image,np.array(X_1))).mean()/(image.shape[0]*image.shape[1]))\n",
    "        X_0 = X_1\n",
    " \n",
    "    os.makedirs('./outputs', exist_ok=True)\n",
    "    new_image = np.array(X_1)\n",
    "    plt.figure(figsize = (10,10))\n",
    "    plt.subplot(1, 2, 1)\n",
    "    plt.imshow(image,  cmap=plt.cm.gray)\n",
    "    plt.title('Original image')\n",
    "    plt.subplot(1, 2, 2)\n",
    "    plt.imshow(new_image,cmap = plt.cm.gray)\n",
    "    plt.title('Reconstructed image')\n",
    "    plt.savefig('outputs/reconstructed_image_%s_filter_%s_iterations_%s_measurements'%(p,N_iter,M))\n",
    "    plt.figure()\n",
    "    plt.xlabel('Number of iterations')\n",
    "    plt.ylabel('Mean Standard Error')\n",
    "    plt.plot(MSE)\n",
    "    plt.savefig('outputs/MSE_reconstruced_image_%s_filter_%s_measurements' %(p,M))\n",
    "    return X_1,MSE\n",
    "\n"
   ]
  },
  {
   "cell_type": "markdown",
   "metadata": {},
   "source": [
    "On fait désormais varier le nombre de mesures ainsi que le type de filtre utilisé. Tous les résultats (image reconstruite et MSE associé) sont exportés dans le fichier output à la racine du projet"
   ]
  },
  {
   "cell_type": "code",
   "execution_count": null,
   "metadata": {},
   "outputs": [],
   "source": [
    "prediction_methods =['P1','P2','P3']\n",
    "measurements = list(range(100,300,50))\n",
    "for m in measurements:\n",
    "    print('Initialising measurement matrix for M = %s'%m)\n",
    "    time.sleep(0.2)\n",
    "    Y,Phi = measurement_matrixes(image,m)    \n",
    "    F_0 = initialisation(Y,Phi)  \n",
    "    for p in prediction_methods:\n",
    "        reconstruction_image_2D(image = image, F_0 = F_0, M = m, N_iter = 5, prediction = p)"
   ]
  }
 ],
 "metadata": {
  "kernelspec": {
   "display_name": "Python 3",
   "language": "python",
   "name": "python3"
  },
  "language_info": {
   "codemirror_mode": {
    "name": "ipython",
    "version": 3
   },
   "file_extension": ".py",
   "mimetype": "text/x-python",
   "name": "python",
   "nbconvert_exporter": "python",
   "pygments_lexer": "ipython3",
   "version": "3.6.4"
  }
 },
 "nbformat": 4,
 "nbformat_minor": 2
}
